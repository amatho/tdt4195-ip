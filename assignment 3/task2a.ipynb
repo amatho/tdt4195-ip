{
 "cells": [
  {
   "cell_type": "code",
   "execution_count": 2,
   "metadata": {},
   "outputs": [],
   "source": [
    "import numpy as np\n",
    "import skimage\n",
    "import utils\n",
    "import pathlib"
   ]
  },
  {
   "cell_type": "code",
   "execution_count": 3,
   "metadata": {},
   "outputs": [],
   "source": [
    "def otsu_thresholding(im: np.ndarray) -> int:\n",
    "    \"\"\"\n",
    "        Otsu's thresholding algorithm that segments an image into 1 or 0 (True or False)\n",
    "        The function takes in a grayscale image and outputs a threshold value\n",
    "\n",
    "        args:\n",
    "            im: np.ndarray of shape (H, W) in the range [0, 255] (dtype=np.uint8)\n",
    "        return:\n",
    "            (int) the computed thresholding value\n",
    "    \"\"\"\n",
    "    assert im.dtype == np.uint8\n",
    "    # START YOUR CODE HERE ### (You can change anything inside this block)\n",
    "    # You can also define other helper functions\n",
    "    # Compute normalized histogram\n",
    "    hist, intensities = skimage.exposure.histogram(im, normalize=True)\n",
    "\n",
    "    P_1 = np.array([sum(hist[i] for i in range(k))\n",
    "                   for k in range(1, len(hist) + 1)])\n",
    "    m_k = np.array([sum(i * hist[i] for i in range(k))\n",
    "                   for k in range(1, len(hist) + 1)])\n",
    "    m_G = m_k[-1]\n",
    "    sigma2 = ((m_G * P_1 - m_k) ** 2) / (P_1 * (1 - P_1))\n",
    "    keys = np.where(sigma2 == sigma2.max())\n",
    "    return sum(intensities[key] for key in keys) / len(keys)\n",
    "    ### END YOUR CODE HERE ###\n"
   ]
  },
  {
   "cell_type": "code",
   "execution_count": 4,
   "metadata": {},
   "outputs": [
    {
     "name": "stdout",
     "output_type": "stream",
     "text": [
      "Reading image: images\\thumbprint.png\n",
      "Found optimal threshold: [153.]\n",
      "Saving image to: image_processed\\thumbprint-segmented.png\n",
      "Reading image: images\\polymercell.png\n",
      "Found optimal threshold: [181.]\n",
      "Saving image to: image_processed\\polymercell-segmented.png\n"
     ]
    },
    {
     "name": "stderr",
     "output_type": "stream",
     "text": [
      "C:\\Users\\amath\\AppData\\Local\\Temp\\ipykernel_10692\\1997791817.py:16: DeprecationWarning: `np.bool` is a deprecated alias for the builtin `bool`. To silence this warning, use `bool` by itself. Doing this will not modify any behavior and is safe. If you specifically wanted the numpy scalar type, use `np.bool_` here.\n",
      "Deprecated in NumPy 1.20; for more details and guidance: https://numpy.org/devdocs/release/1.20.0-notes.html#deprecations\n",
      "  assert segmented_image.dtype == np.bool, \"Expected thresholded image dtype to be np.bool. Was: {}\".format(\n"
     ]
    }
   ],
   "source": [
    "if __name__ == \"__main__\":\n",
    "    # DO NOT CHANGE\n",
    "    impaths_to_segment = [\n",
    "        pathlib.Path(\"thumbprint.png\"),\n",
    "        pathlib.Path(\"polymercell.png\")\n",
    "    ]\n",
    "    for impath in impaths_to_segment:\n",
    "        im = utils.read_image(impath)\n",
    "        threshold = otsu_thresholding(im)\n",
    "        print(\"Found optimal threshold:\", threshold)\n",
    "\n",
    "        # Segment the image by threshold\n",
    "        segmented_image = (im >= threshold)\n",
    "        assert im.shape == segmented_image.shape, \"Expected image shape ({}) to be same as thresholded image shape ({})\".format(\n",
    "                im.shape, segmented_image.shape)\n",
    "        assert segmented_image.dtype == np.bool, \"Expected thresholded image dtype to be np.bool. Was: {}\".format(\n",
    "                segmented_image.dtype)\n",
    "\n",
    "        segmented_image = utils.to_uint8(segmented_image)\n",
    "\n",
    "        save_path = \"{}-segmented.png\".format(impath.stem)\n",
    "        utils.save_im(save_path, segmented_image)"
   ]
  }
 ],
 "metadata": {
  "kernelspec": {
   "display_name": "Python 3.11.0 64-bit",
   "language": "python",
   "name": "python3"
  },
  "language_info": {
   "codemirror_mode": {
    "name": "ipython",
    "version": 3
   },
   "file_extension": ".py",
   "mimetype": "text/x-python",
   "name": "python",
   "nbconvert_exporter": "python",
   "pygments_lexer": "ipython3",
   "version": "3.10.8"
  },
  "vscode": {
   "interpreter": {
    "hash": "c1cbcaa98dcc40da75a1dd5067ea82f38a92b829fd237e47c844ccd9c925359d"
   }
  }
 },
 "nbformat": 4,
 "nbformat_minor": 4
}
