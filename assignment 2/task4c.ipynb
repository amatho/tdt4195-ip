{
 "cells": [
  {
   "cell_type": "code",
   "execution_count": 7,
   "metadata": {},
   "outputs": [],
   "source": [
    "import skimage\n",
    "import skimage.io\n",
    "import skimage.transform\n",
    "import os\n",
    "import numpy as np\n",
    "import utils\n",
    "import matplotlib.pyplot as plt\n"
   ]
  },
  {
   "cell_type": "code",
   "execution_count": 8,
   "metadata": {},
   "outputs": [],
   "source": [
    "def convolve_im(im: np.array, fft_kernel: np.array):\n",
    "    \"\"\" Convolves the image (im) with the frequency kernel (fft_kernel),\n",
    "        and returns the resulting image.\n",
    "\n",
    "        \"verbose\" can be used for turning on/off visualization\n",
    "        convolution\n",
    "\n",
    "    Args:\n",
    "        im: np.array of shape [H, W]\n",
    "        fft_kernel: np.array of shape [H, W] \n",
    "        verbose: bool\n",
    "    Returns:\n",
    "        im: np.array of shape [H, W]\n",
    "    \"\"\"\n",
    "    # START YOUR CODE HERE ### (You can change anything inside this block)\n",
    "    fft_im = np.fft.fft2(im)\n",
    "    filtered = fft_im * fft_kernel\n",
    "\n",
    "    conv_result = np.fft.ifft2(filtered).real\n",
    "    ### END YOUR CODE HERE ###\n",
    "    return conv_result\n"
   ]
  },
  {
   "cell_type": "code",
   "execution_count": 9,
   "metadata": {},
   "outputs": [
    {
     "name": "stdout",
     "output_type": "stream",
     "text": [
      "Saving image to: image_processed\\moon_filtered.png\n"
     ]
    }
   ],
   "source": [
    "if __name__ == \"__main__\":\n",
    "    # DO NOT CHANGE\n",
    "    impath = os.path.join(\"images\", \"noisy_moon.png\")\n",
    "    im = utils.read_im(impath)\n",
    "\n",
    "    # START YOUR CODE HERE ### (You can change anything inside this block)\n",
    "    fft_kernel = np.ones_like(im)\n",
    "    for i in range(26, im.shape[0] - 100, 29):\n",
    "        fft_kernel[:4, i:(i + 6)] = 0\n",
    "        fft_kernel[-3:, i:(i + 6)] = 0\n",
    "\n",
    "    im_filtered = convolve_im(im, fft_kernel)\n",
    "    ### END YOUR CODE HERE ###\n",
    "    utils.save_im(\"moon_filtered.png\", utils.normalize(im_filtered))\n"
   ]
  }
 ],
 "metadata": {
  "kernelspec": {
   "display_name": "Python 3.6.10 ('tdt4195')",
   "language": "python",
   "name": "python3"
  },
  "language_info": {
   "codemirror_mode": {
    "name": "ipython",
    "version": 3
   },
   "file_extension": ".py",
   "mimetype": "text/x-python",
   "name": "python",
   "nbconvert_exporter": "python",
   "pygments_lexer": "ipython3",
   "version": "3.6.10"
  },
  "vscode": {
   "interpreter": {
    "hash": "98dee58c2aa8c42423820de88b93670bbfe953f57aea14e6587d127d031d219b"
   }
  }
 },
 "nbformat": 4,
 "nbformat_minor": 4
}
